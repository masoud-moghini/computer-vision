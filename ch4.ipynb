{
 "cells": [
  {
   "cell_type": "markdown",
   "metadata": {},
   "source": [
    "**Chapter 4**\n",
    "learning CNN's "
   ]
  },
  {
   "cell_type": "code",
   "execution_count": null,
   "metadata": {},
   "outputs": [],
   "source": [
    "import torch\n",
    "from torch import nn\n",
    "from torch.utils.data import Dataset,TensorDataset,DataLoader"
   ]
  },
  {
   "cell_type": "code",
   "execution_count": null,
   "metadata": {},
   "outputs": [],
   "source": [
    "from torch.optim import Adam, sgd\n",
    "device = 'cuda' if torch.cuda.is_available() else 'cpu'\n",
    "from torchvision import datasets\n",
    "import numpy as np\n",
    "import matplotlib.pyplot  as plt\n",
    "%matplotlib inline"
   ]
  },
  {
   "cell_type": "code",
   "execution_count": null,
   "metadata": {},
   "outputs": [],
   "source": [
    "X_train = torch.tensor(\n",
    "    [[\n",
    "        [[1,2,3,4],[2,3,4,5],[3,4,5,6],[3,4,5,7]]\n",
    "    ],\n",
    "    [\n",
    "        [[1,2,3,4],[2,3,44,5],[3,4,5,2],[3,4,5,7]]\n",
    "    ]]\n",
    ").to(device).float()"
   ]
  },
  {
   "cell_type": "code",
   "execution_count": null,
   "metadata": {},
   "outputs": [],
   "source": [
    "X_train/=8\n",
    "y_train = torch.tensor([0,1]).to(device).float()"
   ]
  },
  {
   "cell_type": "code",
   "execution_count": null,
   "metadata": {},
   "outputs": [],
   "source": [
    "def get_model():\n",
    "    model = nn.Sequential(\n",
    "        nn.Conv2d(1,1,kernel_size=3),\n",
    "        nn.MaxPool2d(kernel_size=2),\n",
    "        nn.ReLU(),\n",
    "        nn.Flatten(),\n",
    "        nn.Linear(1,1),\n",
    "        nn.Sigmoid()\n",
    "    ).to(device)\n",
    "    loss_fn = nn.BCELoss()\n",
    "    optimizer = Adam(model.parameters(),1e-3)\n",
    "    return model,loss_fn,optimizer"
   ]
  },
  {
   "cell_type": "code",
   "execution_count": null,
   "metadata": {},
   "outputs": [],
   "source": [
    "from torchsummary import summary\n",
    "model, loss_func,optimizer = get_model()\n",
    "summary(model,X_train)"
   ]
  },
  {
   "cell_type": "code",
   "execution_count": null,
   "metadata": {},
   "outputs": [],
   "source": [
    "def train_batch(x,y,model,opt,loss_fn):\n",
    "    model.train()\n",
    "    prediction = model(x)\n",
    "    batch_loss = loss_fn(prediction.squeeze(0),y)\n",
    "    batch_loss.backward()\n",
    "    opt.step()\n",
    "    opt.zero_grad()\n",
    "    return batch_loss.item()\n",
    "    "
   ]
  },
  {
   "cell_type": "code",
   "execution_count": null,
   "metadata": {},
   "outputs": [],
   "source": [
    "train_dl = DataLoader(TensorDataset(X_train,y_train))"
   ]
  },
  {
   "cell_type": "code",
   "execution_count": null,
   "metadata": {},
   "outputs": [],
   "source": [
    "for epoch in range(500):\n",
    "    for ix,batch in enumerate(iter(train_dl)):\n",
    "        x,y = batch\n",
    "        batch_loss = train_batch(x,y,model=model,opt=optimizer,loss_fn=loss_func)"
   ]
  },
  {
   "cell_type": "code",
   "execution_count": null,
   "metadata": {},
   "outputs": [],
   "source": [
    "model(X_train[-1])"
   ]
  },
  {
   "cell_type": "code",
   "execution_count": null,
   "metadata": {},
   "outputs": [],
   "source": [
    "y[-1]"
   ]
  },
  {
   "cell_type": "markdown",
   "metadata": {},
   "source": [
    "## Classifying FMNIST images Using CNN"
   ]
  },
  {
   "cell_type": "code",
   "execution_count": null,
   "metadata": {},
   "outputs": [],
   "source": [
    "from torchvision import datasets\n",
    "from torch.utils.data import DataLoader,Dataset\n",
    "import torch\n",
    "import torch.nn as nn\n",
    "import numpy as np\n",
    "import matplotlib.pyplot as plt\n",
    "%matplotlib inline\n",
    "\n",
    "data_folder = './data/FMNIST'\n",
    "fmnist = datasets.FashionMNIST(data_folder,download=True, train=True)\n",
    "fmnist_images = fmnist.data\n",
    "fmnist_targets = fmnist.targets\n",
    "\n",
    "val_fmnist = datasets.FashionMNIST(data_folder,download=False, train=False)\n",
    "val_images = val_fmnist.data\n",
    "val_targets = val_fmnist.targets\n",
    "\n",
    "\n"
   ]
  },
  {
   "cell_type": "code",
   "execution_count": null,
   "metadata": {},
   "outputs": [],
   "source": []
  },
  {
   "cell_type": "code",
   "execution_count": null,
   "metadata": {},
   "outputs": [],
   "source": [
    "class FMNISTDataset(Dataset):\n",
    "    def __init__(self,x,y):\n",
    "        x = x.float()/255\n",
    "        x = x.view(-1,1,28,28)\n",
    "        self.x,self.y = x,y\n",
    "    def __getitem__(self,ix):\n",
    "        return self.x[ix],self.y[ix]\n",
    "    def __len__(self):\n",
    "        return len(self.x)"
   ]
  },
  {
   "cell_type": "code",
   "execution_count": null,
   "metadata": {},
   "outputs": [],
   "source": [
    "from torch.optim import SGD,Adam\n",
    "def get_model():\n",
    "    model = nn.Sequential(\n",
    "        nn.Conv2d(1,64,kernel_size=3),\n",
    "        nn.MaxPool2d(2),\n",
    "        nn.ReLU(),\n",
    "        nn.Conv2d(64,128,kernel_size=3),\n",
    "        nn.MaxPool2d(2),\n",
    "        nn.ReLU(),\n",
    "        nn.Flatten(),\n",
    "        nn.Linear(3200,256),\n",
    "        nn.ReLU(),\n",
    "        nn.Linear(256,10)\n",
    "    )\n",
    "    loss_func = nn.CrossEntropyLoss()\n",
    "    optimizer = Adam(model.parameters(),lr=1e-3)\n",
    "    return model,loss_func,optimizer"
   ]
  },
  {
   "cell_type": "code",
   "execution_count": null,
   "metadata": {},
   "outputs": [],
   "source": [
    "from torchsummary import summary\n",
    "\n",
    "model,loss_fn,optimizer = get_model()\n",
    "summary(model,torch.zeros(1,1,28,28))"
   ]
  },
  {
   "cell_type": "markdown",
   "metadata": {},
   "source": []
  },
  {
   "cell_type": "code",
   "execution_count": null,
   "metadata": {},
   "outputs": [],
   "source": [
    "def get_data():\n",
    "    train_ds = FMNISTDataset(fmnist_images,fmnist_targets)\n",
    "    trn_dl = DataLoader(train_ds,batch_size=1000,shuffle=True)\n",
    "\n",
    "    val_ds = FMNISTDataset(val_images,val_targets)\n",
    "    val_dl = DataLoader(val_ds,batch_size=len(val_ds),shuffle=True)\n",
    "\n",
    "    return trn_dl,val_dl"
   ]
  },
  {
   "cell_type": "code",
   "execution_count": null,
   "metadata": {},
   "outputs": [],
   "source": [
    "def train_batch(x,y,model,opt,loss_fn):\n",
    "    model.train()\n",
    "    prediction = model(x)\n",
    "    batch_loss = loss_fn(prediction.squeeze(0),y)\n",
    "    batch_loss.backward()\n",
    "    opt.step()\n",
    "    opt.zero_grad()\n",
    "    return batch_loss.item()\n",
    "    "
   ]
  },
  {
   "cell_type": "code",
   "execution_count": null,
   "metadata": {},
   "outputs": [],
   "source": [
    "@torch.no_grad\n",
    "def validate(x,y,model,loss_fn):\n",
    "    model.eval()\n",
    "    prediction = model(x)\n",
    "    batch_loss = loss_fn(prediction,y)\n",
    "    maxval,maxarg = prediction.max(-1)\n",
    "    is_correct = maxarg == y\n",
    "    return  torch.mean(is_correct.float()),batch_loss.item()"
   ]
  },
  {
   "cell_type": "code",
   "execution_count": null,
   "metadata": {},
   "outputs": [
    {
     "ename": "NameError",
     "evalue": "name 'get_data' is not defined",
     "output_type": "error",
     "traceback": [
      "\u001b[1;31m---------------------------------------------------------------------------\u001b[0m",
      "\u001b[1;31mNameError\u001b[0m                                 Traceback (most recent call last)",
      "Cell \u001b[1;32mIn[1], line 1\u001b[0m\n\u001b[1;32m----> 1\u001b[0m trn_dl,val_dl \u001b[38;5;241m=\u001b[39m \u001b[43mget_data\u001b[49m()\n\u001b[0;32m      2\u001b[0m model,loss_fn,optimizer \u001b[38;5;241m=\u001b[39m get_model()\n\u001b[0;32m      3\u001b[0m epoch_losses \u001b[38;5;241m=\u001b[39m []\n",
      "\u001b[1;31mNameError\u001b[0m: name 'get_data' is not defined"
     ]
    }
   ],
   "source": [
    "trn_dl,val_dl = get_data()\n",
    "model,loss_fn,optimizer = get_model()\n",
    "epoch_losses = []\n",
    "validation_loss_epoch = []\n",
    "\n",
    "training_accuracies ,training_losses =[],[]\n",
    "validation_accuracies,validation_losses = [],[]\n",
    "for epoch in range(3):\n",
    "    for ix,batch in enumerate(iter(trn_dl)):\n",
    "        x,y = batch\n",
    "        batch_loss = train_batch(x,y,model=model,opt=optimizer,loss_fn=loss_fn)\n",
    "        batch_accuracy ,batch_loss = validate(x,y,model,loss_fn)\n",
    "        print(f'epoch number is {epoch}\\n\\t ix: {ix}')\n",
    "    training_losses.append(np.mean(batch_loss))\n",
    "    training_accuracies.append(batch_accuracy)\n",
    "    for ix,batch in enumerate(iter(val_dl)):\n",
    "        x,y = batch\n",
    "        validation_accuracy,validation_loss = validate(x,y,model=model,loss_fn=loss_fn)\n",
    "        print(f'epoch number is {epoch}\\n\\t ix inside dataloader: {ix}\\n\\tbatch_loss:{batch_loss}\\n\\tevaluation_result')\n",
    "        validation_losses.append(validation_loss)\n",
    "        validation_accuracies.append(validation_accuracy)"
   ]
  },
  {
   "cell_type": "code",
   "execution_count": null,
   "metadata": {},
   "outputs": [],
   "source": [
    "import matplotlib.pyplot as plt\n",
    "import matplotlib.ticker as mticker\n",
    "\n",
    "epochs = np.arange(3) + 1\n",
    "plt.subplot(211)\n",
    "plt.plot(epochs,training_losses,'bo',label = 'Training Loss')\n",
    "plt.plot(epochs,validation_losses, label = 'Validation Loss')\n",
    "plt.gca().xaxis.set_major_locator(mticker.MultipleLocator(1))\n",
    "plt.title('Training and validation loss with CNN')\n",
    "plt.xlabel('Epochs')\n",
    "plt.ylabel('Loss')\n",
    "plt.legend()\n",
    "plt.grid('off')\n",
    "plt.show()\n",
    "\n",
    "\n",
    "plt.subplot(212)\n",
    "plt.plot(epochs,training_accuracies,'bo',label = 'Training Loss')\n",
    "plt.plot(epochs,validation_accuracies, label = 'Validation Loss')\n",
    "plt.gca().xaxis.set_major_locator(mticker.MultipleLocator(1))\n",
    "plt.title('Training and validation loss with CNN')\n",
    "plt.xlabel('Epochs')\n",
    "plt.ylabel('Accuracy')\n",
    "plt.legend()\n",
    "plt.grid('off')\n",
    "plt.show()"
   ]
  },
  {
   "attachments": {
    "image.png": {
     "image/png": "[encoded data removed]"
    }
   },
   "cell_type": "markdown",
   "metadata": {},
   "source": [
    "![image.png](attachment:image.png)"
   ]
  },
  {
   "attachments": {
    "image.png": {
     "image/png": "[encoded data removed]"
    }
   },
   "cell_type": "markdown",
   "metadata": {},
   "source": [
    "![image.png](attachment:image.png)"
   ]
  },
  {
   "cell_type": "code",
   "execution_count": null,
   "metadata": {},
   "outputs": [],
   "source": []
  }
 ],
 "metadata": {
  "kernelspec": {
   "display_name": "Python 3",
   "language": "python",
   "name": "python3"
  },
  "language_info": {
   "codemirror_mode": {
    "name": "ipython",
    "version": 3
   },
   "file_extension": ".py",
   "mimetype": "text/x-python",
   "name": "python",
   "nbconvert_exporter": "python",
   "pygments_lexer": "ipython3",
   "version": "3.9.0"
  }
 },
 "nbformat": 4,
 "nbformat_minor": 2
}
