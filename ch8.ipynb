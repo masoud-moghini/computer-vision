{
 "cells": [
  {
   "cell_type": "code",
   "execution_count": 2,
   "metadata": {},
   "outputs": [
    {
     "name": "stderr",
     "output_type": "stream",
     "text": [
      "2025-04-01 20:07:51,273 - DEBUG - Loaded backend module://matplotlib_inline.backend_inline version unknown.\n",
      "2025-04-01 20:07:52,142 - DEBUG - Loaded backend module://matplotlib_inline.backend_inline version unknown.\n"
     ]
    },
    {
     "data": {
      "text/plain": [
       "Index(['ImageID', 'Source', 'LabelName', 'Confidence', 'XMin', 'XMax', 'YMin',\n",
       "       'YMax', 'IsOccluded', 'IsTruncated', 'IsGroupOf', 'IsDepiction',\n",
       "       'IsInside', 'XClick1X', 'XClick2X', 'XClick3X', 'XClick4X', 'XClick1Y',\n",
       "       'XClick2Y', 'XClick3Y', 'XClick4Y'],\n",
       "      dtype='object')"
      ]
     },
     "execution_count": 2,
     "metadata": {},
     "output_type": "execute_result"
    }
   ],
   "source": [
    "from torch import cuda,optim\n",
    "from PIL import Image\n",
    "import torch\n",
    "from torch.utils.data import Dataset,DataLoader\n",
    "from torchvision import transforms,models,datasets\n",
    "from torchvision.ops import nms\n",
    "import matplotlib.pyplot as plt\n",
    "import matplotlib.patches as patches\n",
    "import pandas as pd,numpy as np\n",
    "import torchsummary\n",
    "from torch import nn\n",
    "from pathlib import Path\n",
    "from pandas import DataFrame as df\n",
    "import glob\n",
    "device = 'cuda' if cuda.is_available() else 'cpu'\n",
    "import logging\n",
    "logging.basicConfig(level=logging.DEBUG,\n",
    "                    format='%(asctime)s - %(levelname)s - %(message)s',\n",
    "                    handlers=[logging.FileHandler('app.log'), logging.StreamHandler()])\n",
    "logger = logging.getLogger(__name__)\n",
    "%matplotlib inline\n",
    "\n",
    "DS_FOLDER = './data/open-images-bus-trucks/open-images-bus-trucks'\n",
    "IMAGE_ROOT = DS_FOLDER + '/images'\n",
    "df = pd.read_csv(DS_FOLDER+'/df.csv')\n",
    "df.columns"
   ]
  },
  {
   "cell_type": "code",
   "execution_count": 6,
   "metadata": {},
   "outputs": [],
   "source": [
    "label2targets = {l: t+1 for t,l in enumerate(df['LabelName'].unique())}\n",
    "label2targets['background'] = 0\n",
    "target2labels = {i:t for t,i in label2targets.items()}\n",
    "background_class = label2targets['background']\n",
    "num_classes = len(label2targets)"
   ]
  },
  {
   "cell_type": "code",
   "execution_count": null,
   "metadata": {},
   "outputs": [],
   "source": []
  },
  {
   "cell_type": "code",
   "execution_count": null,
   "metadata": {},
   "outputs": [],
   "source": []
  },
  {
   "cell_type": "code",
   "execution_count": null,
   "metadata": {},
   "outputs": [],
   "source": []
  },
  {
   "cell_type": "code",
   "execution_count": 10,
   "metadata": {},
   "outputs": [],
   "source": [
    "def process_img(img):\n",
    "    img = torch.tensor(img).permute(2,0,1)\n",
    "    return img.to(device).float()"
   ]
  },
  {
   "cell_type": "code",
   "execution_count": 11,
   "metadata": {},
   "outputs": [],
   "source": [
    "class OpenDataset(Dataset):\n",
    "    def __init__(self,df,images_path=IMAGE_ROOT):\n",
    "        self.images_path = images_path\n",
    "        self.files = glob.glob(self.images_path,'/*')\n",
    "        self.df = df\n",
    "        self.image_info = df['ImageID'].unique()\n",
    "    def __getitem__(self, index):\n",
    "        image_id = self.image_info.iloc[index]\n",
    "        img_path = list(filter(lambda path : path.find(image_id)!=-1,self.files))[0]\n",
    "        img = Image.open(img_path).convert(\"RGB\")\n",
    "        img = np.array(img.resize((self.w,self.h),resample = Image.BITLINEAR)/255)\n",
    "        data = df[df['ImageID'] == image_id]\n",
    "        labels = data['LabelName']\n",
    "        data = data[['XMin','YMin','XMax','YMax']].values()\n",
    "        data[:,[0,2]] *= self.w\n",
    "        data[:,[1,3]] *= self.h\n",
    "\n",
    "        boxes = data.astype(np.uint32).tolist()\n",
    "        target = {}\n",
    "        target['boxes'] = torch.Tensor(boxes).float()\n",
    "        target['label'] = torch.Tensor([label2targets[i] for i in labels]).long()\n",
    "        img = process_img(img)\n",
    "        return img,target\n",
    "\n",
    "    def collate_fn(self,batch):\n",
    "        return tuple(*zip(batch))\n",
    "    def __len__(self):\n",
    "        return len(self.image_info)"
   ]
  },
  {
   "cell_type": "code",
   "execution_count": 12,
   "metadata": {},
   "outputs": [
    {
     "ename": "TypeError",
     "evalue": "glob() takes 1 positional argument but 2 were given",
     "output_type": "error",
     "traceback": [
      "\u001b[1;31m---------------------------------------------------------------------------\u001b[0m",
      "\u001b[1;31mTypeError\u001b[0m                                 Traceback (most recent call last)",
      "Cell \u001b[1;32mIn[12], line 5\u001b[0m\n\u001b[0;32m      3\u001b[0m train_ids,test_ids \u001b[38;5;241m=\u001b[39m train_test_split(df\u001b[38;5;241m.\u001b[39mImageID\u001b[38;5;241m.\u001b[39munique(),test_size\u001b[38;5;241m=\u001b[39m\u001b[38;5;241m.1\u001b[39m)\n\u001b[0;32m      4\u001b[0m train_df,test_df \u001b[38;5;241m=\u001b[39m df[df[\u001b[38;5;124m'\u001b[39m\u001b[38;5;124mImageID\u001b[39m\u001b[38;5;124m'\u001b[39m]\u001b[38;5;241m.\u001b[39misin(train_ids)],df[df[\u001b[38;5;124m'\u001b[39m\u001b[38;5;124mImageID\u001b[39m\u001b[38;5;124m'\u001b[39m]\u001b[38;5;241m.\u001b[39misin(test_ids)]\n\u001b[1;32m----> 5\u001b[0m train_ds ,test_ds \u001b[38;5;241m=\u001b[39m \u001b[43mOpenDataset\u001b[49m\u001b[43m(\u001b[49m\u001b[43mtrain_df\u001b[49m\u001b[43m)\u001b[49m,OpenDataset(test_df)\n",
      "Cell \u001b[1;32mIn[11], line 4\u001b[0m, in \u001b[0;36mOpenDataset.__init__\u001b[1;34m(self, df, images_path)\u001b[0m\n\u001b[0;32m      2\u001b[0m \u001b[38;5;28;01mdef\u001b[39;00m \u001b[38;5;21m__init__\u001b[39m(\u001b[38;5;28mself\u001b[39m,df,images_path\u001b[38;5;241m=\u001b[39mIMAGE_ROOT):\n\u001b[0;32m      3\u001b[0m     \u001b[38;5;28mself\u001b[39m\u001b[38;5;241m.\u001b[39mimages_path \u001b[38;5;241m=\u001b[39m images_path\n\u001b[1;32m----> 4\u001b[0m     \u001b[38;5;28mself\u001b[39m\u001b[38;5;241m.\u001b[39mfiles \u001b[38;5;241m=\u001b[39m \u001b[43mglob\u001b[49m\u001b[38;5;241;43m.\u001b[39;49m\u001b[43mglob\u001b[49m\u001b[43m(\u001b[49m\u001b[38;5;28;43mself\u001b[39;49m\u001b[38;5;241;43m.\u001b[39;49m\u001b[43mimages_path\u001b[49m\u001b[43m,\u001b[49m\u001b[38;5;124;43m'\u001b[39;49m\u001b[38;5;124;43m/*\u001b[39;49m\u001b[38;5;124;43m'\u001b[39;49m\u001b[43m)\u001b[49m\n\u001b[0;32m      5\u001b[0m     \u001b[38;5;28mself\u001b[39m\u001b[38;5;241m.\u001b[39mdf \u001b[38;5;241m=\u001b[39m df\n\u001b[0;32m      6\u001b[0m     \u001b[38;5;28mself\u001b[39m\u001b[38;5;241m.\u001b[39mimage_info \u001b[38;5;241m=\u001b[39m df[\u001b[38;5;124m'\u001b[39m\u001b[38;5;124mImageID\u001b[39m\u001b[38;5;124m'\u001b[39m]\u001b[38;5;241m.\u001b[39munique()\n",
      "\u001b[1;31mTypeError\u001b[0m: glob() takes 1 positional argument but 2 were given"
     ]
    }
   ],
   "source": [
    "from sklearn.model_selection import train_test_split\n",
    "\n",
    "train_ids,test_ids = train_test_split(df.ImageID.unique(),test_size=.1)\n",
    "train_df,test_df = df[df['ImageID'].isin(train_ids)],df[df['ImageID'].isin(test_ids)]\n",
    "train_ds ,test_ds = OpenDataset(train_df),OpenDataset(test_df)"
   ]
  },
  {
   "cell_type": "code",
   "execution_count": null,
   "metadata": {},
   "outputs": [
    {
     "ename": "NameError",
     "evalue": "name 'DataLoader' is not defined",
     "output_type": "error",
     "traceback": [
      "\u001b[1;31m---------------------------------------------------------------------------\u001b[0m",
      "\u001b[1;31mNameError\u001b[0m                                 Traceback (most recent call last)",
      "Cell \u001b[1;32mIn[7], line 1\u001b[0m\n\u001b[1;32m----> 1\u001b[0m train_loader \u001b[38;5;241m=\u001b[39m \u001b[43mDataLoader\u001b[49m(train_ds, batch_size\u001b[38;5;241m=\u001b[39m\u001b[38;5;241m4\u001b[39m,collate_fn\u001b[38;5;241m=\u001b[39mtrain_ds\u001b[38;5;241m.\u001b[39mcollate_fn,drop_last\u001b[38;5;241m=\u001b[39m\u001b[38;5;28;01mTrue\u001b[39;00m)\n\u001b[0;32m      2\u001b[0m test_loader \u001b[38;5;241m=\u001b[39m DataLoader(test_ds, batch_size\u001b[38;5;241m=\u001b[39m\u001b[38;5;241m4\u001b[39m,collate_fn\u001b[38;5;241m=\u001b[39mtest_ds\u001b[38;5;241m.\u001b[39mcollate_fn,drop_last\u001b[38;5;241m=\u001b[39m\u001b[38;5;28;01mTrue\u001b[39;00m)\n",
      "\u001b[1;31mNameError\u001b[0m: name 'DataLoader' is not defined"
     ]
    }
   ],
   "source": [
    "train_loader = DataLoader(train_ds, batch_size=4,collate_fn=train_ds.collate_fn,drop_last=True)\n",
    "test_loader = DataLoader(test_ds, batch_size=4,collate_fn=test_ds.collate_fn,drop_last=True)"
   ]
  },
  {
   "cell_type": "code",
   "execution_count": 4,
   "metadata": {},
   "outputs": [],
   "source": [
    "from torchvision.models.detection.faster_rcnn import FastRCNNPredictor\n",
    "from torchvision.models.detection import fasterrcnn_resnet50_fpn,FasterRCNN_ResNet50_FPN_Weights\n",
    "device = 'cuda' if torch.cuda.is_available() else 'cpu'\n",
    "def faster_model():\n",
    "    model = fasterrcnn_resnet50_fpn(weights= FasterRCNN_ResNet50_FPN_Weights.DEFAULT)\n",
    "    in_features = model.roi_heads.box_predictor.cls_score.in_features\n",
    "    model.roi_heads.box_predictor = FastRCNNPredictor(in_features, num_classes)\n",
    "    return model"
   ]
  },
  {
   "cell_type": "code",
   "execution_count": null,
   "metadata": {},
   "outputs": [],
   "source": [
    "faster_model()"
   ]
  },
  {
   "cell_type": "code",
   "execution_count": 57,
   "metadata": {},
   "outputs": [],
   "source": [
    "def train(inputs,model,optimizer):\n",
    "    input,targets = inputs\n",
    "    input = [image.to(device) for image in inputs ]\n",
    "    targets = [{k:v.to(device) for k,v in t.items()} for t in targets]\n",
    "    optimizer.zero_grad()\n",
    "    losses = model(input,targets)\n",
    "    loss = sum(losses)\n",
    "    loss.backward()\n",
    "    optimizer.step()\n",
    "    return loss,losses\n",
    "\n",
    "@torch.no_grad\n",
    "def eval(inputs,model):\n",
    "    input,targets = inputs\n",
    "    input = [image.to(device) for image in inputs ]\n",
    "    targets = [{k:v.to(device) for k,v in t.items()} for t in targets]\n",
    "    losses = model(input,targets)\n",
    "    loss = sum(losses)\n",
    "    loss.backward()\n",
    "    return loss,losses\n"
   ]
  },
  {
   "cell_type": "code",
   "execution_count": 7,
   "metadata": {},
   "outputs": [],
   "source": [
    "images, boxes = torch.rand(4, 3, 600, 1200), torch.rand(4, 12, 4)\n",
    "boxes[:, :, 2:4] = boxes[:, :, 0:2] + boxes[:, :, 2:4]\n",
    "labels = torch.randint(0, 3, (4, 12))\n",
    "images = list(image for image in images)\n",
    "targets = []\n",
    "model = faster_model()\n",
    "for i in range(len(images)):\n",
    "    d = {}\n",
    "    d['boxes'] = boxes[i]\n",
    "    d['labels'] = labels[i]\n",
    "    targets.append(d)\n",
    "output = model(images, targets)"
   ]
  },
  {
   "cell_type": "code",
   "execution_count": null,
   "metadata": {},
   "outputs": [],
   "source": []
  },
  {
   "cell_type": "code",
   "execution_count": null,
   "metadata": {},
   "outputs": [],
   "source": []
  }
 ],
 "metadata": {
  "kernelspec": {
   "display_name": "Python 3",
   "language": "python",
   "name": "python3"
  },
  "language_info": {
   "codemirror_mode": {
    "name": "ipython",
    "version": 3
   },
   "file_extension": ".py",
   "mimetype": "text/x-python",
   "name": "python",
   "nbconvert_exporter": "python",
   "pygments_lexer": "ipython3",
   "version": "3.9.0"
  }
 },
 "nbformat": 4,
 "nbformat_minor": 2
}
