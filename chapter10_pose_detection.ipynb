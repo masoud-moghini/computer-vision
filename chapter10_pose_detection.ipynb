{
 "cells": [
  {
   "cell_type": "code",
   "execution_count": null,
   "id": "5d4d7482",
   "metadata": {},
   "outputs": [],
   "source": [
    "# install detectron2:\n",
    "!python -m pip install 'git+https://github.com/facebookresearch/detectron2.git'\n",
    "%pip install git+https://github.com/facebookresearch/fvcore.git"
   ]
  },
  {
   "cell_type": "code",
   "execution_count": null,
   "id": "29f32c6f",
   "metadata": {},
   "outputs": [],
   "source": [
    "from detectron2.config import get_cfg\n",
    "from detectron2 import model_zoo\n",
    "from detectron2.engine import DefaultPredictor\n",
    "from detectron2.utils.visualizer import Visualizer,ColorMode\n",
    "from detectron2.data import MetadataCatalog,DatasetCatalog\n",
    "import cv2\n",
    "\n",
    "cfg = get_cfg()\n",
    "cfg.merge_from_file(model_zoo.get_config_file(\"COCO-keypoints/keypoint_rcnn_R_50_FPN_3x.yaml\"))\n",
    "cfg.MODEL.ROI_HEADS.SCORE_THRESH_TEST = .5\n",
    "cfg.MODELS_WEIGHTS = model_zoo.get_checkpoint_url(\"COCO-keypoints/keypoint_rcnn_R_50_FPN_3x.yaml\")\n",
    "\n",
    "predicator = DefaultPredictor(cfg)\n",
    "\n",
    "\n",
    "image = '/content/train/images/000b97d7af0977eb.jpg'\n",
    "im = cv2.imread(image)\n",
    "im = cv2.BGR2RGB(im)\n",
    "im.resize(.5*im.shape[0],.5*im.shape[1])\n",
    "outputs = predicator(im)\n",
    "v = Visualizer(im[:, :, ::-1], scale=0.5,\n",
    "               metadata=MetadataCatalog.get(\"dataset_train\"),\n",
    "               instance_mode=ColorMode.IMAGE_BW\n",
    "# remove the colors of unsegmented pixels.\n",
    "# This option is only available for segmentation models\n",
    ")\n",
    "out = v.draw_instance_predictions(outputs[\"instances\"].to(\"cpu\"))"
   ]
  },
  {
   "cell_type": "code",
   "execution_count": null,
   "id": "8044297a",
   "metadata": {},
   "outputs": [],
   "source": []
  }
 ],
 "metadata": {
  "language_info": {
   "name": "python"
  }
 },
 "nbformat": 4,
 "nbformat_minor": 5
}
